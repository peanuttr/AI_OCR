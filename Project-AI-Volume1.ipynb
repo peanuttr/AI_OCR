{
 "cells": [
  {
   "cell_type": "code",
   "execution_count": 2,
   "metadata": {},
   "outputs": [],
   "source": [
    "import tkinter as tk\n",
    "from tkinter import filedialog\n",
    "import requests"
   ]
  },
  {
   "cell_type": "code",
   "execution_count": 3,
   "metadata": {},
   "outputs": [
    {
     "output_type": "execute_result",
     "data": {
      "text/plain": [
       "''"
      ]
     },
     "metadata": {},
     "execution_count": 3
    }
   ],
   "source": [
    "root=tk.Tk()\n",
    "root.title(\"Optical Character Recognition\")"
   ]
  },
  {
   "cell_type": "code",
   "execution_count": 4,
   "metadata": {},
   "outputs": [],
   "source": [
    "canvas = tk.Canvas(root,height=500,width=500)\n",
    "canvas.pack()\n",
    "frame = tk.Frame(root, bg=\"white\")\n",
    "frame.place(relwidth=0.8, relheight=0.8, relx=0.1, rely=0.1)"
   ]
  },
  {
   "cell_type": "code",
   "execution_count": 5,
   "metadata": {},
   "outputs": [],
   "source": [
    "textstatus = tk.StringVar()\n",
    "textword = tk.StringVar()"
   ]
  },
  {
   "cell_type": "code",
   "execution_count": 6,
   "metadata": {},
   "outputs": [],
   "source": [
    "def on_click():\n",
    "    global textw\n",
    "    filename = filedialog.askopenfilename(initialdir='c:/desktop', title=\"Select File\",\n",
    "                                          filetypes=((\"png\", \"*.png\"), (\"all file\", \"*.*\"), (\"jpg\", \"*.jpg\")))\n",
    "    url = \"https://api.aiforthai.in.th/ocr\"\n",
    "    \n",
    "    files = {'uploadfile':open(filename, 'rb')}\n",
    "    \n",
    "    headers = {\n",
    "    'Apikey': \"OK0DQ3hFQJhLxknHjhhKMGxcEfCV0WNe\",\n",
    "    }\n",
    "    response = requests.post(url, files=files, headers=headers)\n",
    "    response_json = response.json()['Original']\n",
    "    print(response_json)\n",
    "    textword.set(response_json)\n",
    "    textstatus.set(\"Succes\")\n"
   ]
  },
  {
   "cell_type": "code",
   "execution_count": 7,
   "metadata": {},
   "outputs": [
    {
     "output_type": "stream",
     "name": "stderr",
     "text": [
      "Exception in Tkinter callback\n",
      "Traceback (most recent call last):\n",
      "  File \"D:\\python\\python\\lib\\tkinter\\__init__.py\", line 1892, in __call__\n",
      "    return self.func(*args)\n",
      "  File \"<ipython-input-6-ee5eb9e1b7be>\", line 7, in on_click\n",
      "    files = {'uploadfile':open(filename, 'rb')}\n",
      "FileNotFoundError: [Errno 2] No such file or directory: ''\n",
      "Exception in Tkinter callback\n",
      "Traceback (most recent call last):\n",
      "  File \"D:\\python\\python\\lib\\tkinter\\__init__.py\", line 1892, in __call__\n",
      "    return self.func(*args)\n",
      "  File \"<ipython-input-6-ee5eb9e1b7be>\", line 7, in on_click\n",
      "    files = {'uploadfile':open(filename, 'rb')}\n",
      "FileNotFoundError: [Errno 2] No such file or directory: ''\n"
     ]
    }
   ],
   "source": [
    "choosebtn = tk.Button(root,text=\"Choose File\",command=on_click)\n",
    "choosebtn.pack()\n",
    "txtlabel = tk.Label(frame,textvariable=textword)\n",
    "txtlabel.pack()\n",
    "statuslabel = tk.Label(root,textvariable=textstatus)\n",
    "statuslabel.pack()\n",
    "root.mainloop()"
   ]
  },
  {
   "cell_type": "code",
   "execution_count": null,
   "metadata": {},
   "outputs": [],
   "source": []
  }
 ],
 "metadata": {
  "kernelspec": {
   "name": "python3",
   "display_name": "Python 3.9.2 64-bit",
   "metadata": {
    "interpreter": {
     "hash": "5280163147b2dcf064238f6000f0c5c1595f82d74dbb95988f1e0a6debd35b45"
    }
   }
  },
  "language_info": {
   "codemirror_mode": {
    "name": "ipython",
    "version": 3
   },
   "file_extension": ".py",
   "mimetype": "text/x-python",
   "name": "python",
   "nbconvert_exporter": "python",
   "pygments_lexer": "ipython3",
   "version": "3.9.2-final"
  }
 },
 "nbformat": 4,
 "nbformat_minor": 4
}